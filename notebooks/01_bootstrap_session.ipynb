{
 "cells": [
  {
   "cell_type": "markdown",
   "id": "d50295d7",
   "metadata": {},
   "source": [
    "# 01 — Bootstrap Telegram Session\n",
    "Create a Telethon session so you don’t have to re‑login every time."
   ]
  },
  {
   "cell_type": "code",
   "execution_count": null,
   "id": "1033f2c4",
   "metadata": {},
   "outputs": [],
   "source": [
    "import os\n",
    "from dotenv import load_dotenv\n",
    "from telethon import TelegramClient\n",
    "\n",
    "# If this notebook is in notebooks/, .env is one level up\n",
    "load_dotenv(\"../.env\")\n",
    "\n",
    "api_id = int(os.getenv(\"TELEGRAM_API_ID\"))\n",
    "api_hash = os.getenv(\"TELEGRAM_API_HASH\")\n",
    "session_name = os.getenv(\"TELEGRAM_SESSION\", \"telegram_session\")\n",
    "\n",
    "client = TelegramClient(session_name, api_id, api_hash)\n",
    "\n",
    "# Jupyter supports top-level await\n",
    "await client.start()   # prompts for phone/code (and 2FA if set)\n",
    "me = await client.get_me()\n",
    "print(\" Logged in as:\", getattr(me, \"username\", None) or me.id)\n",
    "await client.disconnect()\n",
    "print(\" Session file saved as:\", f\"{session_name}.session\")"
   ]
  }
 ],
 "metadata": {},
 "nbformat": 4,
 "nbformat_minor": 5
}
